{
 "cells": [
  {
   "cell_type": "code",
   "execution_count": 2,
   "id": "31d12a73",
   "metadata": {},
   "outputs": [],
   "source": [
    "import numpy as np\n",
    "import tensorflow as tf\n",
    "from tensorflow.keras import Model, layers\n",
    "from tensorflow.keras.models import Sequential\n",
    "import matplotlib.pyplot as plt\n",
    "from sklearn.model_selection import train_test_split"
   ]
  },
  {
   "cell_type": "code",
   "execution_count": 3,
   "id": "e195b707",
   "metadata": {},
   "outputs": [],
   "source": [
    "def convolution_layer_test(filters, kernel_size, s=1, p='valid', input_size=[1,64,64,3]):\n",
    "    inputs = tf.random.normal(input_size)\n",
    "    print('input size: ', inputs.shape)\n",
    "    conv = tf.keras.layers.Conv2D(filters, kernel_size, strides=s, padding=p)\n",
    "    outputs = conv(inputs)\n",
    "    print('output size: ', outputs.shape)"
   ]
  },
  {
   "cell_type": "code",
   "execution_count": 4,
   "id": "103a4a08",
   "metadata": {},
   "outputs": [
    {
     "name": "stdout",
     "output_type": "stream",
     "text": [
      "input size:  (1, 64, 64, 3)\n",
      "output size:  (1, 62, 62, 10)\n"
     ]
    },
    {
     "name": "stderr",
     "output_type": "stream",
     "text": [
      "2022-07-27 15:39:07.451078: E tensorflow/stream_executor/cuda/cuda_driver.cc:271] failed call to cuInit: CUDA_ERROR_NO_DEVICE: no CUDA-capable device is detected\n",
      "2022-07-27 15:39:07.451182: I tensorflow/stream_executor/cuda/cuda_diagnostics.cc:156] kernel driver does not appear to be running on this host (piai-Precision-7920-Tower): /proc/driver/nvidia/version does not exist\n",
      "2022-07-27 15:39:07.454172: I tensorflow/core/platform/cpu_feature_guard.cc:151] This TensorFlow binary is optimized with oneAPI Deep Neural Network Library (oneDNN) to use the following CPU instructions in performance-critical operations:  AVX2 AVX512F FMA\n",
      "To enable them in other operations, rebuild TensorFlow with the appropriate compiler flags.\n"
     ]
    }
   ],
   "source": [
    "convolution_layer_test(10, 3) # (W-F+2P)/s+1"
   ]
  },
  {
   "cell_type": "code",
   "execution_count": 7,
   "id": "b2afd385",
   "metadata": {},
   "outputs": [
    {
     "name": "stdout",
     "output_type": "stream",
     "text": [
      "input size:  (1, 128, 128, 3)\n",
      "output size:  (1, 20, 20, 10)\n"
     ]
    }
   ],
   "source": [
    "convolution_layer_test(10, 11, s=6, p = 'valid', input_size=[1,128,128,3]) # (128-11)/6+1"
   ]
  },
  {
   "cell_type": "code",
   "execution_count": 19,
   "id": "6d1d129a",
   "metadata": {},
   "outputs": [],
   "source": [
    "def pooling_layer_test(pool_size, s=1, p='valid', input_size=[1,4,4,1]):\n",
    "    inputs = tf.random.normal(input_size)\n",
    "    print('input: ', inputs)\n",
    "    pool = tf.keras.layers.MaxPool2D(pool_size, strides=s, padding=p)\n",
    "    outputs = pool(inputs)\n",
    "    print('output: ', outputs)"
   ]
  },
  {
   "cell_type": "code",
   "execution_count": 34,
   "id": "59da146c",
   "metadata": {},
   "outputs": [
    {
     "name": "stdout",
     "output_type": "stream",
     "text": [
      "input:  tf.Tensor(\n",
      "[[[[ 1.1857686 ]\n",
      "   [-1.1816387 ]\n",
      "   [ 0.5059694 ]\n",
      "   [ 0.44601083]]\n",
      "\n",
      "  [[-0.19596359]\n",
      "   [ 0.05605837]\n",
      "   [-0.19713336]\n",
      "   [ 0.1451701 ]]\n",
      "\n",
      "  [[ 1.6328409 ]\n",
      "   [-1.1992745 ]\n",
      "   [ 0.2554219 ]\n",
      "   [ 0.17318861]]\n",
      "\n",
      "  [[-1.3330626 ]\n",
      "   [ 0.6904897 ]\n",
      "   [ 0.02229808]\n",
      "   [ 1.4717507 ]]]], shape=(1, 4, 4, 1), dtype=float32)\n",
      "output:  tf.Tensor(\n",
      "[[[[1.1857686]\n",
      "   [0.5059694]]\n",
      "\n",
      "  [[1.6328409]\n",
      "   [1.4717507]]]], shape=(1, 2, 2, 1), dtype=float32)\n"
     ]
    }
   ],
   "source": [
    "pooling_layer_test(2,2)"
   ]
  },
  {
   "cell_type": "code",
   "execution_count": null,
   "id": "ad685e10",
   "metadata": {},
   "outputs": [],
   "source": []
  }
 ],
 "metadata": {
  "kernelspec": {
   "display_name": "Python 3 (ipykernel)",
   "language": "python",
   "name": "python3"
  },
  "language_info": {
   "codemirror_mode": {
    "name": "ipython",
    "version": 3
   },
   "file_extension": ".py",
   "mimetype": "text/x-python",
   "name": "python",
   "nbconvert_exporter": "python",
   "pygments_lexer": "ipython3",
   "version": "3.9.7"
  }
 },
 "nbformat": 4,
 "nbformat_minor": 5
}
