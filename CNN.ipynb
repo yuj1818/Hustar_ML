{
  "cells": [
    {
      "cell_type": "code",
      "execution_count": null,
      "metadata": {
        "id": "wML_pitQBeQz"
      },
      "outputs": [],
      "source": [
        "import numpy as np\n",
        "import tensorflow as tf\n",
        "import matplotlib.pyplot as plt\n",
        "from tensorflow.keras import Model, layers\n",
        "from tensorflow.keras.models import Sequential\n",
        "from sklearn.model_selection import train_test_split"
      ]
    },
    {
      "cell_type": "code",
      "execution_count": null,
      "metadata": {
        "colab": {
          "base_uri": "https://localhost:8080/"
        },
        "id": "yfKXSOHdBsMw",
        "outputId": "5e95f581-a6fd-4db9-a570-8aa70e1816ac"
      },
      "outputs": [
        {
          "name": "stdout",
          "output_type": "stream",
          "text": [
            "Model: \"sequential\"\n",
            "_________________________________________________________________\n",
            " Layer (type)                Output Shape              Param #   \n",
            "=================================================================\n",
            " dense (Dense)               (None, 50)                850       \n",
            "                                                                 \n",
            " dense_1 (Dense)             (None, 20)                1020      \n",
            "                                                                 \n",
            "=================================================================\n",
            "Total params: 1,870\n",
            "Trainable params: 1,870\n",
            "Non-trainable params: 0\n",
            "_________________________________________________________________\n"
          ]
        }
      ],
      "source": [
        "model = Sequential([tf.keras.Input([16,]), layers.Dense(50), layers.Dense(20)])\n",
        "\n",
        "model.summary()"
      ]
    },
    {
      "cell_type": "code",
      "execution_count": null,
      "metadata": {
        "colab": {
          "base_uri": "https://localhost:8080/"
        },
        "id": "epfBe1FzCrQP",
        "outputId": "d8c95a84-13af-4d16-ec91-f102f229eede"
      },
      "outputs": [
        {
          "name": "stdout",
          "output_type": "stream",
          "text": [
            "Downloading data from https://storage.googleapis.com/tensorflow/tf-keras-datasets/mnist.npz\n",
            "11493376/11490434 [==============================] - 0s 0us/step\n",
            "11501568/11490434 [==============================] - 0s 0us/step\n",
            "<class 'numpy.ndarray'> (60000, 28, 28)\n",
            "<class 'numpy.ndarray'> (60000, 28, 28)\n",
            "<class 'numpy.ndarray'> (50000, 28, 28)\n",
            "<class 'numpy.ndarray'> (50000, 28, 28)\n"
          ]
        }
      ],
      "source": [
        "(x_trainval, y_trainval), (x_test, y_test) = tf.keras.datasets.mnist.load_data()\n",
        "print(type(x_trainval), x_trainval.shape)\n",
        "print(type(x_trainval), x_trainval.shape)\n",
        "\n",
        "x_train, x_valid, y_train, y_valid = train_test_split(x_trainval, y_trainval, test_size=1/6, shuffle=True,\n",
        "                                                      stratify=y_trainval, random_state=34)\n",
        "\n",
        "print(type(x_train), x_train.shape)\n",
        "print(type(x_train), x_train.shape)"
      ]
    },
    {
      "cell_type": "code",
      "execution_count": null,
      "metadata": {
        "colab": {
          "base_uri": "https://localhost:8080/"
        },
        "id": "tLpTdkUnF3ye",
        "outputId": "d2312d15-f9fd-4071-8de7-f6a57c63cc87"
      },
      "outputs": [
        {
          "name": "stdout",
          "output_type": "stream",
          "text": [
            "(50000, 28, 28)\n",
            "(50000, 28, 28, 1)\n"
          ]
        }
      ],
      "source": [
        "x_train, x_valid, x_test = x_train.astype('float32')/255, x_valid.astype('float32')/255., x_test.astype('float32')/255\n",
        "\n",
        "print(x_train.shape)\n",
        "\n",
        "x_train = x_train.reshape(-1,28,28,1)\n",
        "x_valid = x_valid.reshape(-1,28,28,1)\n",
        "x_test = x_test.reshape(-1,28,28,1)\n",
        "\n",
        "print(x_train.shape)"
      ]
    },
    {
      "cell_type": "code",
      "execution_count": null,
      "metadata": {
        "colab": {
          "base_uri": "https://localhost:8080/"
        },
        "id": "JP8NWhLyGVgW",
        "outputId": "97370ea5-106d-4119-ff12-9a75cf741725"
      },
      "outputs": [
        {
          "name": "stdout",
          "output_type": "stream",
          "text": [
            "Model: \"sequential_1\"\n",
            "_________________________________________________________________\n",
            " Layer (type)                Output Shape              Param #   \n",
            "=================================================================\n",
            " conv2d (Conv2D)             (None, 28, 28, 32)        320       \n",
            "                                                                 \n",
            " max_pooling2d (MaxPooling2D  (None, 14, 14, 32)       0         \n",
            " )                                                               \n",
            "                                                                 \n",
            " conv2d_1 (Conv2D)           (None, 14, 14, 64)        18496     \n",
            "                                                                 \n",
            " max_pooling2d_1 (MaxPooling  (None, 7, 7, 64)         0         \n",
            " 2D)                                                             \n",
            "                                                                 \n",
            " flatten (Flatten)           (None, 3136)              0         \n",
            "                                                                 \n",
            " dense_2 (Dense)             (None, 128)               401536    \n",
            "                                                                 \n",
            " dense_3 (Dense)             (None, 10)                1290      \n",
            "                                                                 \n",
            "=================================================================\n",
            "Total params: 421,642\n",
            "Trainable params: 421,642\n",
            "Non-trainable params: 0\n",
            "_________________________________________________________________\n"
          ]
        }
      ],
      "source": [
        "cnn = Sequential(\n",
        "    [layers.Conv2D(32,3,strides=1, padding='same', activation='relu', input_shape=(28,28,1)),\n",
        "     layers.MaxPool2D(3, strides=2, padding='same'),\n",
        "     layers.Conv2D(64,3, strides=1, padding='same', activation='relu'),\n",
        "     layers.MaxPool2D(3, strides=2, padding='same')\n",
        "     ################ feature extraction\n",
        "\n",
        "     ,layers.Flatten()\n",
        "     ,layers.Dense(128, activation='relu')\n",
        "     ,layers.Dense(10, activation='softmax')\n",
        "    ]\n",
        ")\n",
        "\n",
        "cnn.summary()"
      ]
    },
    {
      "cell_type": "code",
      "execution_count": null,
      "metadata": {
        "id": "BiZeVjaNHs9u"
      },
      "outputs": [],
      "source": [
        "cnn.compile(loss='sparse_categorical_crossentropy', optimizer=tf.keras.optimizers.SGD(learning_rate=0.1), metrics=['accuracy'])"
      ]
    },
    {
      "cell_type": "code",
      "execution_count": null,
      "metadata": {
        "colab": {
          "background_save": true,
          "base_uri": "https://localhost:8080/"
        },
        "id": "bKYNNkRmIz8o",
        "outputId": "0a8ad095-9aea-4be9-cffc-24adfe5f8f79"
      },
      "outputs": [
        {
          "name": "stdout",
          "output_type": "stream",
          "text": [
            "Epoch 1/5\n",
            "391/391 [==============================] - 63s 160ms/step - loss: 0.4119 - accuracy: 0.8721 - val_loss: 0.1080 - val_accuracy: 0.9688\n",
            "Epoch 2/5\n",
            "391/391 [==============================] - 60s 154ms/step - loss: 0.0901 - accuracy: 0.9724 - val_loss: 0.0827 - val_accuracy: 0.9763\n",
            "Epoch 3/5\n",
            "391/391 [==============================] - 61s 156ms/step - loss: 0.0642 - accuracy: 0.9800 - val_loss: 0.0544 - val_accuracy: 0.9835\n",
            "Epoch 4/5\n",
            "391/391 [==============================] - 60s 154ms/step - loss: 0.0501 - accuracy: 0.9840 - val_loss: 0.0525 - val_accuracy: 0.9842\n",
            "Epoch 5/5\n",
            "391/391 [==============================] - 61s 155ms/step - loss: 0.0411 - accuracy: 0.9872 - val_loss: 0.0469 - val_accuracy: 0.9854\n"
          ]
        }
      ],
      "source": [
        "result = cnn.fit(x_train, y_train, epochs=5, batch_size=128, validation_data = (x_valid, y_valid))"
      ]
    },
    {
      "cell_type": "code",
      "source": [
        "test_result = cnn.evaluate(x_test, y_test)\n",
        "print('test_loss: ', test_result[0])\n",
        "print('test_acc: ', test_result[1])"
      ],
      "metadata": {
        "colab": {
          "base_uri": "https://localhost:8080/"
        },
        "id": "_jYyd_AcNL7c",
        "outputId": "ed84a5c8-77d4-4fe4-d2ac-39b96f03f15f"
      },
      "execution_count": null,
      "outputs": [
        {
          "output_type": "stream",
          "name": "stdout",
          "text": [
            "313/313 [==============================] - 1s 2ms/step - loss: 0.0383 - accuracy: 0.9876\n",
            "test_loss:  0.038345448672771454\n",
            "test_acc:  0.9876000285148621\n"
          ]
        }
      ]
    },
    {
      "cell_type": "code",
      "source": [
        "(x_trainval, y_trainval), (x_test, y_test) = tf.keras.datasets.cifar10.load_data()"
      ],
      "metadata": {
        "colab": {
          "base_uri": "https://localhost:8080/"
        },
        "id": "1LsAftwfOCdW",
        "outputId": "91e7c5e5-6aaf-4757-aaab-45a35cc838e9"
      },
      "execution_count": null,
      "outputs": [
        {
          "output_type": "stream",
          "name": "stdout",
          "text": [
            "Downloading data from https://www.cs.toronto.edu/~kriz/cifar-10-python.tar.gz\n",
            "170500096/170498071 [==============================] - 4s 0us/step\n",
            "170508288/170498071 [==============================] - 4s 0us/step\n"
          ]
        }
      ]
    },
    {
      "cell_type": "code",
      "source": [
        "print(type(x_trainval), x_trainval.shape)\n",
        "print(type(x_trainval), x_trainval.shape)\n",
        "\n",
        "plt.imshow(x_trainval[10])"
      ],
      "metadata": {
        "colab": {
          "base_uri": "https://localhost:8080/",
          "height": 320
        },
        "id": "AlcBr9ndPT06",
        "outputId": "0d7c1eaa-e07b-4830-c53c-b9ffb0839484"
      },
      "execution_count": null,
      "outputs": [
        {
          "output_type": "stream",
          "name": "stdout",
          "text": [
            "<class 'numpy.ndarray'> (50000, 32, 32, 3)\n",
            "<class 'numpy.ndarray'> (50000, 32, 32, 3)\n"
          ]
        },
        {
          "output_type": "execute_result",
          "data": {
            "text/plain": [
              "<matplotlib.image.AxesImage at 0x7f7499170890>"
            ]
          },
          "metadata": {},
          "execution_count": 13
        },
        {
          "output_type": "display_data",
          "data": {
            "text/plain": [
              "<Figure size 432x288 with 1 Axes>"
            ],
            "image/png": "[encoded data removed]"
          },
          "metadata": {
            "needs_background": "light"
          }
        }
      ]
    },
    {
      "cell_type": "code",
      "source": [
        ""
      ],
      "metadata": {
        "id": "Hf1xLCLBPhZb"
      },
      "execution_count": null,
      "outputs": []
    }
  ],
  "metadata": {
    "accelerator": "GPU",
    "colab": {
      "name": "CNN.ipynb",
      "provenance": [],
      "authorship_tag": "ABX9TyPMysw1p25RbQqpzV7RNBhA"
    },
    "gpuClass": "standard",
    "kernelspec": {
      "display_name": "Python 3",
      "name": "python3"
    },
    "language_info": {
      "name": "python"
    }
  },
  "nbformat": 4,
  "nbformat_minor": 0
}